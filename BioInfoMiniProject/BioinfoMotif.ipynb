{
 "cells": [
  {
   "cell_type": "code",
   "execution_count": 5,
   "id": "1bf662c6",
   "metadata": {},
   "outputs": [
    {
     "name": "stdout",
     "output_type": "stream",
     "text": [
      "Enter a file name >\tC:\\Users\\sanket jha\\OneDrive\\Desktop\\BioInfoPracticlas\\BioInfoMiniProject\\Variola.txt\n",
      "\n",
      "\n",
      "Motif generation successful.\n",
      "\n",
      "Motif length: 6\n",
      "\n",
      "Motif: TATTAC\n",
      "Enter a file name to be searched >\tC:\\Users\\sanket jha\\OneDrive\\Desktop\\BioInfoPracticlas\\BioInfoMiniProject\\Variola.txt\n",
      "Given motif is found at index:\t 1676\n"
     ]
    }
   ],
   "source": [
    "from random import randint\n",
    "\n",
    "def motif(input_file_name : str) -> str:\n",
    "    with open(input_file_name) as input_file_handle:\n",
    "        input_file_data = input_file_handle.read()\n",
    "        input_file_handle.close()\n",
    "    \n",
    "    input_file_data = input_file_data.replace(\"\\n\", \"\")\n",
    "    \n",
    "    #motif_length = randint(2, len(input_file_data) - 1)\n",
    "    motif_length = randint(2, 10)\n",
    "    start_index = randint(0, len(input_file_data) - motif_length)\n",
    "    \n",
    "    return input_file_data[start_index : start_index + motif_length]\n",
    "\n",
    "def search_for_motif(motif : str, search_file_name : str) -> int:\n",
    "    with open(search_file_name) as search_file_handle:\n",
    "        search_file_data = search_file_handle.read()\n",
    "        search_file_handle.close()\n",
    "    \n",
    "    search_file_data = search_file_data.replace(\"\\n\", \"\")\n",
    "    \n",
    "    index = search_file_data.find(motif)\n",
    "    \n",
    "    return index\n",
    "\n",
    "if __name__ == \"__main__\":\n",
    "    input_file_name = input(\"Enter a file name >\\t\")\n",
    "    generated_motif = motif(input_file_name)\n",
    "    print(\"\\n\\nMotif generation successful.\")\n",
    "    print(f\"\\nMotif length: {len(generated_motif)}\")\n",
    "    print(f\"\\nMotif: {generated_motif}\")\n",
    "    \n",
    "    search_file_name = input(\"Enter a file name to be searched >\\t\")\n",
    "    index = search_for_motif(generated_motif, search_file_name)\n",
    "    \n",
    "    if index > 0:\n",
    "        print(\"Given motif is found at index:\\t\", index)\n",
    "    else:\n",
    "        print(\"Motif not found in document\")"
   ]
  },
  {
   "cell_type": "code",
   "execution_count": null,
   "id": "a6368086",
   "metadata": {},
   "outputs": [],
   "source": []
  },
  {
   "cell_type": "code",
   "execution_count": null,
   "id": "31176b82",
   "metadata": {},
   "outputs": [],
   "source": []
  },
  {
   "cell_type": "code",
   "execution_count": null,
   "id": "62a85b42",
   "metadata": {},
   "outputs": [],
   "source": []
  }
 ],
 "metadata": {
  "kernelspec": {
   "display_name": "Python 3",
   "language": "python",
   "name": "python3"
  },
  "language_info": {
   "codemirror_mode": {
    "name": "ipython",
    "version": 3
   },
   "file_extension": ".py",
   "mimetype": "text/x-python",
   "name": "python",
   "nbconvert_exporter": "python",
   "pygments_lexer": "ipython3",
   "version": "3.8.8"
  }
 },
 "nbformat": 4,
 "nbformat_minor": 5
}
