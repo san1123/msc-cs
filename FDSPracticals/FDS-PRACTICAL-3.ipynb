{
 "cells": [
  {
   "cell_type": "code",
   "execution_count": 2,
   "metadata": {
    "colab": {
     "base_uri": "https://localhost:8080/"
    },
    "executionInfo": {
     "elapsed": 356,
     "status": "ok",
     "timestamp": 1637376183565,
     "user": {
      "displayName": "Lokeshwaran Naidu",
      "photoUrl": "https://lh3.googleusercontent.com/a-/AOh14GjhLyxZHbWYE_0Xj5Wqf4RM-aMMBLieOG7XtCEYfPA=s64",
      "userId": "13869774590827632199"
     },
     "user_tz": -330
    },
    "id": "v_4QJCaFNvJy",
    "outputId": "64bf2277-b42d-4ea9-8237-c8056ffa4c53"
   },
   "outputs": [
    {
     "name": "stdout",
     "output_type": "stream",
     "text": [
      "Probability of getting 3 is  0.16666666666666666\n"
     ]
    }
   ],
   "source": [
    "# Probability of getting 3 when a die is rolled\n",
    "ns={1,2,3,4,5,6}\n",
    "na={3}\n",
    "pa=len(na)/len(ns)\n",
    "print(\"Probability of getting 3 is \",pa)"
   ]
  },
  {
   "cell_type": "code",
   "execution_count": 4,
   "metadata": {
    "colab": {
     "base_uri": "https://localhost:8080/"
    },
    "executionInfo": {
     "elapsed": 368,
     "status": "ok",
     "timestamp": 1637376468344,
     "user": {
      "displayName": "Lokeshwaran Naidu",
      "photoUrl": "https://lh3.googleusercontent.com/a-/AOh14GjhLyxZHbWYE_0Xj5Wqf4RM-aMMBLieOG7XtCEYfPA=s64",
      "userId": "13869774590827632199"
     },
     "user_tz": -330
    },
    "id": "qRikMMGdOeIa",
    "outputId": "1a666c45-3c90-4f88-ec21-e2a21ede93db"
   },
   "outputs": [
    {
     "name": "stdout",
     "output_type": "stream",
     "text": [
      "Probability of atleast getting one head is  0.875\n"
     ]
    }
   ],
   "source": [
    "'''Calculate the probabillity of atleast getting one head when coin is tossed thrice'''\n",
    "\n",
    "ns={'HHH','THH','HTH','HHT','TTH','THT','HTT','TTT'}\n",
    "na={'HHH','THH','HTH','HHT','TTH','THT','HTT'}\n",
    "pa=len(na)/len(ns)\n",
    "print('Probability of atleast getting one head is ',pa)\n"
   ]
  },
  {
   "cell_type": "code",
   "execution_count": 11,
   "metadata": {
    "colab": {
     "base_uri": "https://localhost:8080/"
    },
    "executionInfo": {
     "elapsed": 366,
     "status": "ok",
     "timestamp": 1637377872447,
     "user": {
      "displayName": "Lokeshwaran Naidu",
      "photoUrl": "https://lh3.googleusercontent.com/a-/AOh14GjhLyxZHbWYE_0Xj5Wqf4RM-aMMBLieOG7XtCEYfPA=s64",
      "userId": "13869774590827632199"
     },
     "user_tz": -330
    },
    "id": "0QAW3m19Pj8I",
    "outputId": "19c14abc-d7e0-4b98-b4af-d62ab88004bc"
   },
   "outputs": [
    {
     "name": "stdout",
     "output_type": "stream",
     "text": [
      "Probability of not getting blue jar is 0.7\n"
     ]
    }
   ],
   "source": [
    "'''Glass of jar contain 5 red,3 blue and 2 green jelly beans. If a jelly is chosen at random from jar, what is probability that it is not a blue'''\n",
    "ns=10\n",
    "na=7\n",
    "pa=na/ns\n",
    "print('Probability of not getting blue jar is',pa)"
   ]
  },
  {
   "cell_type": "code",
   "execution_count": 6,
   "metadata": {
    "colab": {
     "base_uri": "https://localhost:8080/"
    },
    "executionInfo": {
     "elapsed": 397,
     "status": "ok",
     "timestamp": 1637377042475,
     "user": {
      "displayName": "Lokeshwaran Naidu",
      "photoUrl": "https://lh3.googleusercontent.com/a-/AOh14GjhLyxZHbWYE_0Xj5Wqf4RM-aMMBLieOG7XtCEYfPA=s64",
      "userId": "13869774590827632199"
     },
     "user_tz": -330
    },
    "id": "teSQ-sK9QU7I",
    "outputId": "e95fe137-6296-4c2f-f75f-c65e787dc1bc"
   },
   "outputs": [
    {
     "name": "stdout",
     "output_type": "stream",
     "text": [
      "Probability that they will be alive after 20 years is 0.35\n"
     ]
    }
   ],
   "source": [
    "#These are independent events  so \n",
    "P=0.7*0.5\n",
    "print(\"Probability that they will be alive after 20 years is\",P)"
   ]
  },
  {
   "cell_type": "code",
   "execution_count": 8,
   "metadata": {
    "executionInfo": {
     "elapsed": 368,
     "status": "ok",
     "timestamp": 1637377517713,
     "user": {
      "displayName": "Lokeshwaran Naidu",
      "photoUrl": "https://lh3.googleusercontent.com/a-/AOh14GjhLyxZHbWYE_0Xj5Wqf4RM-aMMBLieOG7XtCEYfPA=s64",
      "userId": "13869774590827632199"
     },
     "user_tz": -330
    },
    "id": "95aUMMaYRvNn"
   },
   "outputs": [],
   "source": [
    "def probability(number_of_events,samplespace):\n",
    "  return number_of_events/samplespace\n"
   ]
  },
  {
   "cell_type": "code",
   "execution_count": 9,
   "metadata": {
    "colab": {
     "base_uri": "https://localhost:8080/"
    },
    "executionInfo": {
     "elapsed": 10,
     "status": "ok",
     "timestamp": 1637377520232,
     "user": {
      "displayName": "Lokeshwaran Naidu",
      "photoUrl": "https://lh3.googleusercontent.com/a-/AOh14GjhLyxZHbWYE_0Xj5Wqf4RM-aMMBLieOG7XtCEYfPA=s64",
      "userId": "13869774590827632199"
     },
     "user_tz": -330
    },
    "id": "wOOGa_LPTMcu",
    "outputId": "16012bfb-b740-4ca4-cceb-88e1408783f8"
   },
   "outputs": [
    {
     "name": "stdout",
     "output_type": "stream",
     "text": [
      "Probability of getting a 4 or 5 on the first toss and 1, 2 or 3 on second toss is 0.16666666666666666\n"
     ]
    }
   ],
   "source": [
    "pa=probability(2,6)\n",
    "pb=probability(3,6)\n",
    "P=pa*pb\n",
    "print(\"Probability of getting a 4 or 5 on the first toss and 1, 2 or 3 on second toss is\", P)\n"
   ]
  },
  {
   "cell_type": "code",
   "execution_count": 10,
   "metadata": {
    "colab": {
     "base_uri": "https://localhost:8080/"
    },
    "executionInfo": {
     "elapsed": 380,
     "status": "ok",
     "timestamp": 1637377847592,
     "user": {
      "displayName": "Lokeshwaran Naidu",
      "photoUrl": "https://lh3.googleusercontent.com/a-/AOh14GjhLyxZHbWYE_0Xj5Wqf4RM-aMMBLieOG7XtCEYfPA=s64",
      "userId": "13869774590827632199"
     },
     "user_tz": -330
    },
    "id": "zf-bQjqjTlKO",
    "outputId": "2b2824c5-a602-491b-c008-3051be847ecb"
   },
   "outputs": [
    {
     "name": "stdout",
     "output_type": "stream",
     "text": [
      "The probability of obtaining white, black and green in the order is  0.041666666666666664\n"
     ]
    }
   ],
   "source": [
    "pa=probability(5,10)\n",
    "pb=probability(3,9)\n",
    "pc=probability(2,8)\n",
    "P=pa*pb*pc\n",
    "print('The probability of obtaining white, black and green in the order is ',P)"
   ]
  },
  {
   "cell_type": "code",
   "execution_count": 15,
   "metadata": {
    "colab": {
     "base_uri": "https://localhost:8080/"
    },
    "executionInfo": {
     "elapsed": 1618,
     "status": "ok",
     "timestamp": 1637381492045,
     "user": {
      "displayName": "Lokeshwaran Naidu",
      "photoUrl": "https://lh3.googleusercontent.com/a-/AOh14GjhLyxZHbWYE_0Xj5Wqf4RM-aMMBLieOG7XtCEYfPA=s64",
      "userId": "13869774590827632199"
     },
     "user_tz": -330
    },
    "id": "ygQYWqOjU2V-",
    "outputId": "1137ea39-59a3-40d7-d1a1-07cf0f108749"
   },
   "outputs": [
    {
     "name": "stdout",
     "output_type": "stream",
     "text": [
      "Probability fo drawing heart or club in a deck of 52 cards is 0.5\n"
     ]
    }
   ],
   "source": [
    "cards=52\n",
    "hearts=13\n",
    "clubs=13\n",
    "heart_or_club=probability(13,52)+probability(13,52)\n",
    "print('Probability fo drawing heart or club in a deck of 52 cards is',heart_or_club)"
   ]
  },
  {
   "cell_type": "code",
   "execution_count": 14,
   "metadata": {
    "colab": {
     "base_uri": "https://localhost:8080/"
    },
    "executionInfo": {
     "elapsed": 480,
     "status": "ok",
     "timestamp": 1637378295271,
     "user": {
      "displayName": "Lokeshwaran Naidu",
      "photoUrl": "https://lh3.googleusercontent.com/a-/AOh14GjhLyxZHbWYE_0Xj5Wqf4RM-aMMBLieOG7XtCEYfPA=s64",
      "userId": "13869774590827632199"
     },
     "user_tz": -330
    },
    "id": "vNmeHwgpVzvN",
    "outputId": "59172728-b7f3-4c65-be42-f261e510e7eb"
   },
   "outputs": [
    {
     "name": "stdout",
     "output_type": "stream",
     "text": [
      "Probability of drawing ace, king or queen cards from deck is  0.23076923076923078\n"
     ]
    }
   ],
   "source": [
    "cards=52\n",
    "ace=4\n",
    "king=4\n",
    "queen=4\n",
    "akq=probability(4,52)+probability(4,52)+probability(4,52)\n",
    "print(\"Probability of drawing ace, king or queen cards from deck is \",akq)"
   ]
  },
  {
   "cell_type": "code",
   "execution_count": 16,
   "metadata": {
    "colab": {
     "base_uri": "https://localhost:8080/"
    },
    "executionInfo": {
     "elapsed": 362,
     "status": "ok",
     "timestamp": 1637381539170,
     "user": {
      "displayName": "Lokeshwaran Naidu",
      "photoUrl": "https://lh3.googleusercontent.com/a-/AOh14GjhLyxZHbWYE_0Xj5Wqf4RM-aMMBLieOG7XtCEYfPA=s64",
      "userId": "13869774590827632199"
     },
     "user_tz": -330
    },
    "id": "vtSIXNdkXYRM",
    "outputId": "100f1961-37f5-4890-a27a-4279900cf358"
   },
   "outputs": [
    {
     "name": "stdout",
     "output_type": "stream",
     "text": [
      "0.3076923076923077\n"
     ]
    }
   ],
   "source": [
    "'''Probability of getting heart or ace '''\n",
    "heart=13\n",
    "ace=4\n",
    "ace_of_hearts=1\n",
    "ha=probability(13,52)+probability(ace,52)-probability(ace_of_hearts,cards) # Additive rule\n",
    "print(ha)"
   ]
  },
  {
   "cell_type": "code",
   "execution_count": null,
   "metadata": {
    "id": "w1n_7jZ6YeyI"
   },
   "outputs": [],
   "source": [
    "'''Probability of not getting 5 when a fair die is rolled'''\n",
    "ns=6 #n(s)= {1,2,3,4,5,6}\n",
    "na=1 #n(a)={5}\n",
    "pa=na/ns \n",
    "print('probability of not getting 5 is ', 1-pa)"
   ]
  },
  {
   "cell_type": "code",
   "execution_count": 18,
   "metadata": {
    "colab": {
     "base_uri": "https://localhost:8080/",
     "height": 163
    },
    "executionInfo": {
     "elapsed": 392,
     "status": "ok",
     "timestamp": 1637381767472,
     "user": {
      "displayName": "Lokeshwaran Naidu",
      "photoUrl": "https://lh3.googleusercontent.com/a-/AOh14GjhLyxZHbWYE_0Xj5Wqf4RM-aMMBLieOG7XtCEYfPA=s64",
      "userId": "13869774590827632199"
     },
     "user_tz": -330
    },
    "id": "aPit35i6Y8tS",
    "outputId": "3cdba621-57bc-435b-d14e-1ce3094daa5e"
   },
   "outputs": [
    {
     "data": {
      "text/html": [
       "<div>\n",
       "<style scoped>\n",
       "    .dataframe tbody tr th:only-of-type {\n",
       "        vertical-align: middle;\n",
       "    }\n",
       "\n",
       "    .dataframe tbody tr th {\n",
       "        vertical-align: top;\n",
       "    }\n",
       "\n",
       "    .dataframe thead th {\n",
       "        text-align: right;\n",
       "    }\n",
       "</style>\n",
       "<table border=\"1\" class=\"dataframe\">\n",
       "  <thead>\n",
       "    <tr style=\"text-align: right;\">\n",
       "      <th></th>\n",
       "      <th>school</th>\n",
       "      <th>sex</th>\n",
       "      <th>age</th>\n",
       "      <th>address</th>\n",
       "      <th>famsize</th>\n",
       "      <th>Pstatus</th>\n",
       "      <th>Medu</th>\n",
       "      <th>Fedu</th>\n",
       "      <th>Mjob</th>\n",
       "      <th>Fjob</th>\n",
       "      <th>reason</th>\n",
       "      <th>guardian</th>\n",
       "      <th>traveltime</th>\n",
       "      <th>studytime</th>\n",
       "      <th>failures</th>\n",
       "      <th>schoolsup</th>\n",
       "      <th>famsup</th>\n",
       "      <th>paid</th>\n",
       "      <th>activities</th>\n",
       "      <th>nursery</th>\n",
       "      <th>higher</th>\n",
       "      <th>internet</th>\n",
       "      <th>romantic</th>\n",
       "      <th>famrel</th>\n",
       "      <th>freetime</th>\n",
       "      <th>goout</th>\n",
       "      <th>Dalc</th>\n",
       "      <th>Walc</th>\n",
       "      <th>health</th>\n",
       "      <th>absences</th>\n",
       "      <th>G1</th>\n",
       "      <th>G2</th>\n",
       "      <th>G3</th>\n",
       "    </tr>\n",
       "  </thead>\n",
       "  <tbody>\n",
       "    <tr>\n",
       "      <th>0</th>\n",
       "      <td>GP</td>\n",
       "      <td>F</td>\n",
       "      <td>18</td>\n",
       "      <td>U</td>\n",
       "      <td>GT3</td>\n",
       "      <td>A</td>\n",
       "      <td>4</td>\n",
       "      <td>4</td>\n",
       "      <td>at_home</td>\n",
       "      <td>teacher</td>\n",
       "      <td>course</td>\n",
       "      <td>mother</td>\n",
       "      <td>2</td>\n",
       "      <td>2</td>\n",
       "      <td>0</td>\n",
       "      <td>yes</td>\n",
       "      <td>no</td>\n",
       "      <td>no</td>\n",
       "      <td>no</td>\n",
       "      <td>yes</td>\n",
       "      <td>yes</td>\n",
       "      <td>no</td>\n",
       "      <td>no</td>\n",
       "      <td>4</td>\n",
       "      <td>3</td>\n",
       "      <td>4</td>\n",
       "      <td>1</td>\n",
       "      <td>1</td>\n",
       "      <td>3</td>\n",
       "      <td>6</td>\n",
       "      <td>5</td>\n",
       "      <td>6</td>\n",
       "      <td>6</td>\n",
       "    </tr>\n",
       "    <tr>\n",
       "      <th>1</th>\n",
       "      <td>GP</td>\n",
       "      <td>F</td>\n",
       "      <td>17</td>\n",
       "      <td>U</td>\n",
       "      <td>GT3</td>\n",
       "      <td>T</td>\n",
       "      <td>1</td>\n",
       "      <td>1</td>\n",
       "      <td>at_home</td>\n",
       "      <td>other</td>\n",
       "      <td>course</td>\n",
       "      <td>father</td>\n",
       "      <td>1</td>\n",
       "      <td>2</td>\n",
       "      <td>0</td>\n",
       "      <td>no</td>\n",
       "      <td>yes</td>\n",
       "      <td>no</td>\n",
       "      <td>no</td>\n",
       "      <td>no</td>\n",
       "      <td>yes</td>\n",
       "      <td>yes</td>\n",
       "      <td>no</td>\n",
       "      <td>5</td>\n",
       "      <td>3</td>\n",
       "      <td>3</td>\n",
       "      <td>1</td>\n",
       "      <td>1</td>\n",
       "      <td>3</td>\n",
       "      <td>4</td>\n",
       "      <td>5</td>\n",
       "      <td>5</td>\n",
       "      <td>6</td>\n",
       "    </tr>\n",
       "    <tr>\n",
       "      <th>2</th>\n",
       "      <td>GP</td>\n",
       "      <td>F</td>\n",
       "      <td>15</td>\n",
       "      <td>U</td>\n",
       "      <td>LE3</td>\n",
       "      <td>T</td>\n",
       "      <td>1</td>\n",
       "      <td>1</td>\n",
       "      <td>at_home</td>\n",
       "      <td>other</td>\n",
       "      <td>other</td>\n",
       "      <td>mother</td>\n",
       "      <td>1</td>\n",
       "      <td>2</td>\n",
       "      <td>3</td>\n",
       "      <td>yes</td>\n",
       "      <td>no</td>\n",
       "      <td>yes</td>\n",
       "      <td>no</td>\n",
       "      <td>yes</td>\n",
       "      <td>yes</td>\n",
       "      <td>yes</td>\n",
       "      <td>no</td>\n",
       "      <td>4</td>\n",
       "      <td>3</td>\n",
       "      <td>2</td>\n",
       "      <td>2</td>\n",
       "      <td>3</td>\n",
       "      <td>3</td>\n",
       "      <td>10</td>\n",
       "      <td>7</td>\n",
       "      <td>8</td>\n",
       "      <td>10</td>\n",
       "    </tr>\n",
       "  </tbody>\n",
       "</table>\n",
       "</div>"
      ],
      "text/plain": [
       "  school sex  age address famsize Pstatus  ...  Walc  health absences G1 G2  G3\n",
       "0     GP   F   18       U     GT3       A  ...     1       3        6  5  6   6\n",
       "1     GP   F   17       U     GT3       T  ...     1       3        4  5  5   6\n",
       "2     GP   F   15       U     LE3       T  ...     3       3       10  7  8  10\n",
       "\n",
       "[3 rows x 33 columns]"
      ]
     },
     "execution_count": 18,
     "metadata": {},
     "output_type": "execute_result"
    }
   ],
   "source": [
    "#Conditional probability\n",
    "''''''\n",
    "import pandas as pd\n",
    "import numpy as np\n",
    "df=pd.read_csv('sample_data/student-mat.csv') #Student-mat.csv file \n",
    "df.head(3)"
   ]
  },
  {
   "cell_type": "code",
   "execution_count": 19,
   "metadata": {
    "colab": {
     "base_uri": "https://localhost:8080/"
    },
    "executionInfo": {
     "elapsed": 365,
     "status": "ok",
     "timestamp": 1637381772675,
     "user": {
      "displayName": "Lokeshwaran Naidu",
      "photoUrl": "https://lh3.googleusercontent.com/a-/AOh14GjhLyxZHbWYE_0Xj5Wqf4RM-aMMBLieOG7XtCEYfPA=s64",
      "userId": "13869774590827632199"
     },
     "user_tz": -330
    },
    "id": "_hrUSkK9axuR",
    "outputId": "ed2f1bf2-3e01-45e9-c561-772d3aa00a27"
   },
   "outputs": [
    {
     "data": {
      "text/plain": [
       "395"
      ]
     },
     "execution_count": 19,
     "metadata": {},
     "output_type": "execute_result"
    }
   ],
   "source": [
    "len(df)"
   ]
  },
  {
   "cell_type": "code",
   "execution_count": 20,
   "metadata": {
    "executionInfo": {
     "elapsed": 365,
     "status": "ok",
     "timestamp": 1637381775536,
     "user": {
      "displayName": "Lokeshwaran Naidu",
      "photoUrl": "https://lh3.googleusercontent.com/a-/AOh14GjhLyxZHbWYE_0Xj5Wqf4RM-aMMBLieOG7XtCEYfPA=s64",
      "userId": "13869774590827632199"
     },
     "user_tz": -330
    },
    "id": "D05MpX_Db5rw"
   },
   "outputs": [],
   "source": [
    "df['grade_A']=np.where(df['G3']*5 >= 80 , 1, 0)"
   ]
  },
  {
   "cell_type": "markdown",
   "metadata": {
    "id": "iUa8Cc_acXyK"
   },
   "source": [
    "If Student is absent more then 10 or more classes then they should be in the high_absences list"
   ]
  },
  {
   "cell_type": "code",
   "execution_count": 21,
   "metadata": {
    "executionInfo": {
     "elapsed": 353,
     "status": "ok",
     "timestamp": 1637381778785,
     "user": {
      "displayName": "Lokeshwaran Naidu",
      "photoUrl": "https://lh3.googleusercontent.com/a-/AOh14GjhLyxZHbWYE_0Xj5Wqf4RM-aMMBLieOG7XtCEYfPA=s64",
      "userId": "13869774590827632199"
     },
     "user_tz": -330
    },
    "id": "rJ96w6vBckVj"
   },
   "outputs": [],
   "source": [
    "df['high_absences']=np.where(df['absences']>=10,1,0)"
   ]
  },
  {
   "cell_type": "markdown",
   "metadata": {
    "id": "kb7qpIBfc5JX"
   },
   "source": [
    "Add one more column to make building a pivot table easier"
   ]
  },
  {
   "cell_type": "code",
   "execution_count": 22,
   "metadata": {
    "executionInfo": {
     "elapsed": 380,
     "status": "ok",
     "timestamp": 1637381781428,
     "user": {
      "displayName": "Lokeshwaran Naidu",
      "photoUrl": "https://lh3.googleusercontent.com/a-/AOh14GjhLyxZHbWYE_0Xj5Wqf4RM-aMMBLieOG7XtCEYfPA=s64",
      "userId": "13869774590827632199"
     },
     "user_tz": -330
    },
    "id": "h2E51-3mc9cR"
   },
   "outputs": [],
   "source": [
    "df['count']=1"
   ]
  },
  {
   "cell_type": "markdown",
   "metadata": {
    "id": "e-DKnnxqdPio"
   },
   "source": [
    "Drop all other columns and just display new added 3 columns"
   ]
  },
  {
   "cell_type": "code",
   "execution_count": 24,
   "metadata": {
    "colab": {
     "base_uri": "https://localhost:8080/",
     "height": 206
    },
    "executionInfo": {
     "elapsed": 390,
     "status": "ok",
     "timestamp": 1637382190327,
     "user": {
      "displayName": "Lokeshwaran Naidu",
      "photoUrl": "https://lh3.googleusercontent.com/a-/AOh14GjhLyxZHbWYE_0Xj5Wqf4RM-aMMBLieOG7XtCEYfPA=s64",
      "userId": "13869774590827632199"
     },
     "user_tz": -330
    },
    "id": "cotVIyXfc_64",
    "outputId": "b245a1c3-e423-48ae-d869-4ccd87123ca5"
   },
   "outputs": [
    {
     "data": {
      "text/html": [
       "<div>\n",
       "<style scoped>\n",
       "    .dataframe tbody tr th:only-of-type {\n",
       "        vertical-align: middle;\n",
       "    }\n",
       "\n",
       "    .dataframe tbody tr th {\n",
       "        vertical-align: top;\n",
       "    }\n",
       "\n",
       "    .dataframe thead th {\n",
       "        text-align: right;\n",
       "    }\n",
       "</style>\n",
       "<table border=\"1\" class=\"dataframe\">\n",
       "  <thead>\n",
       "    <tr style=\"text-align: right;\">\n",
       "      <th></th>\n",
       "      <th>grade_A</th>\n",
       "      <th>high_absences</th>\n",
       "      <th>count</th>\n",
       "    </tr>\n",
       "  </thead>\n",
       "  <tbody>\n",
       "    <tr>\n",
       "      <th>0</th>\n",
       "      <td>0</td>\n",
       "      <td>0</td>\n",
       "      <td>1</td>\n",
       "    </tr>\n",
       "    <tr>\n",
       "      <th>1</th>\n",
       "      <td>0</td>\n",
       "      <td>0</td>\n",
       "      <td>1</td>\n",
       "    </tr>\n",
       "    <tr>\n",
       "      <th>2</th>\n",
       "      <td>0</td>\n",
       "      <td>1</td>\n",
       "      <td>1</td>\n",
       "    </tr>\n",
       "    <tr>\n",
       "      <th>3</th>\n",
       "      <td>0</td>\n",
       "      <td>0</td>\n",
       "      <td>1</td>\n",
       "    </tr>\n",
       "    <tr>\n",
       "      <th>4</th>\n",
       "      <td>0</td>\n",
       "      <td>0</td>\n",
       "      <td>1</td>\n",
       "    </tr>\n",
       "  </tbody>\n",
       "</table>\n",
       "</div>"
      ],
      "text/plain": [
       "   grade_A  high_absences  count\n",
       "0        0              0      1\n",
       "1        0              0      1\n",
       "2        0              1      1\n",
       "3        0              0      1\n",
       "4        0              0      1"
      ]
     },
     "execution_count": 24,
     "metadata": {},
     "output_type": "execute_result"
    }
   ],
   "source": [
    "df=df[['grade_A','high_absences','count']]\n",
    "df.head()"
   ]
  },
  {
   "cell_type": "code",
   "execution_count": 26,
   "metadata": {
    "executionInfo": {
     "elapsed": 369,
     "status": "ok",
     "timestamp": 1637382202575,
     "user": {
      "displayName": "Lokeshwaran Naidu",
      "photoUrl": "https://lh3.googleusercontent.com/a-/AOh14GjhLyxZHbWYE_0Xj5Wqf4RM-aMMBLieOG7XtCEYfPA=s64",
      "userId": "13869774590827632199"
     },
     "user_tz": -330
    },
    "id": "XN_ak0v4djBH"
   },
   "outputs": [],
   "source": [
    "final=pd.pivot_table(df,values='count',index=['grade_A'],columns=['high_absences'],\n",
    "                     aggfunc=np.size,fill_value=0)"
   ]
  },
  {
   "cell_type": "code",
   "execution_count": 27,
   "metadata": {
    "colab": {
     "base_uri": "https://localhost:8080/"
    },
    "executionInfo": {
     "elapsed": 379,
     "status": "ok",
     "timestamp": 1637382206777,
     "user": {
      "displayName": "Lokeshwaran Naidu",
      "photoUrl": "https://lh3.googleusercontent.com/a-/AOh14GjhLyxZHbWYE_0Xj5Wqf4RM-aMMBLieOG7XtCEYfPA=s64",
      "userId": "13869774590827632199"
     },
     "user_tz": -330
    },
    "id": "4OZ53QZOeRUy",
    "outputId": "ccddef17-fb5f-4955-d767-8a5d8da54741"
   },
   "outputs": [
    {
     "name": "stdout",
     "output_type": "stream",
     "text": [
      "high_absences    0   1\n",
      "grade_A               \n",
      "0              277  78\n",
      "1               35   5\n"
     ]
    }
   ],
   "source": [
    "print(final)"
   ]
  },
  {
   "cell_type": "code",
   "execution_count": 28,
   "metadata": {
    "colab": {
     "base_uri": "https://localhost:8080/"
    },
    "executionInfo": {
     "elapsed": 371,
     "status": "ok",
     "timestamp": 1637382246961,
     "user": {
      "displayName": "Lokeshwaran Naidu",
      "photoUrl": "https://lh3.googleusercontent.com/a-/AOh14GjhLyxZHbWYE_0Xj5Wqf4RM-aMMBLieOG7XtCEYfPA=s64",
      "userId": "13869774590827632199"
     },
     "user_tz": -330
    },
    "id": "dNTpxgD_egGX",
    "outputId": "2af42e8b-428d-497a-ffd4-280ab88a1426"
   },
   "outputs": [
    {
     "name": "stdout",
     "output_type": "stream",
     "text": [
      "0.10126582278481013\n"
     ]
    }
   ],
   "source": [
    "#  probability of a grade of 80% or greater\n",
    "\n",
    "Pa = (35 + 5) / (35 + 5 + 277 + 78)\n",
    "print(Pa)"
   ]
  },
  {
   "cell_type": "code",
   "execution_count": 29,
   "metadata": {
    "colab": {
     "base_uri": "https://localhost:8080/"
    },
    "executionInfo": {
     "elapsed": 363,
     "status": "ok",
     "timestamp": 1637382264939,
     "user": {
      "displayName": "Lokeshwaran Naidu",
      "photoUrl": "https://lh3.googleusercontent.com/a-/AOh14GjhLyxZHbWYE_0Xj5Wqf4RM-aMMBLieOG7XtCEYfPA=s64",
      "userId": "13869774590827632199"
     },
     "user_tz": -330
    },
    "id": "z9VhIM7tlnZz",
    "outputId": "5e629b32-a5ab-433f-8665-54e311bd7b4b"
   },
   "outputs": [
    {
     "name": "stdout",
     "output_type": "stream",
     "text": [
      "0.21012658227848102\n"
     ]
    }
   ],
   "source": [
    "Pb = (78 + 5) / (35 + 5 + 277 + 78)\n",
    "print(Pb)"
   ]
  },
  {
   "cell_type": "code",
   "execution_count": 30,
   "metadata": {
    "colab": {
     "base_uri": "https://localhost:8080/"
    },
    "executionInfo": {
     "elapsed": 355,
     "status": "ok",
     "timestamp": 1637382290081,
     "user": {
      "displayName": "Lokeshwaran Naidu",
      "photoUrl": "https://lh3.googleusercontent.com/a-/AOh14GjhLyxZHbWYE_0Xj5Wqf4RM-aMMBLieOG7XtCEYfPA=s64",
      "userId": "13869774590827632199"
     },
     "user_tz": -330
    },
    "id": "Q4iQ0HVBlrQj",
    "outputId": "5b22349c-8d07-4143-a582-7d8156d77b26"
   },
   "outputs": [
    {
     "name": "stdout",
     "output_type": "stream",
     "text": [
      "0.012658227848101266\n"
     ]
    }
   ],
   "source": [
    "PaAndb = 5 / (35 + 5 + 277 + 78)\n",
    "print(PaAndb)"
   ]
  },
  {
   "cell_type": "code",
   "execution_count": 31,
   "metadata": {
    "colab": {
     "base_uri": "https://localhost:8080/"
    },
    "executionInfo": {
     "elapsed": 373,
     "status": "ok",
     "timestamp": 1637382310824,
     "user": {
      "displayName": "Lokeshwaran Naidu",
      "photoUrl": "https://lh3.googleusercontent.com/a-/AOh14GjhLyxZHbWYE_0Xj5Wqf4RM-aMMBLieOG7XtCEYfPA=s64",
      "userId": "13869774590827632199"
     },
     "user_tz": -330
    },
    "id": "NoEC-Y_Zlw1c",
    "outputId": "21f2ddd9-0665-49b0-b465-52ed88fb6632"
   },
   "outputs": [
    {
     "name": "stdout",
     "output_type": "stream",
     "text": [
      "0.060240963855421686\n"
     ]
    }
   ],
   "source": [
    "print(PaAndb / Pb)"
   ]
  }
 ],
 "metadata": {
  "colab": {
   "authorship_tag": "ABX9TyPhDhxjJtnTFT/e2h3OZrWf",
   "collapsed_sections": [],
   "name": "Probability_DS_Practical.ipynb",
   "provenance": []
  },
  "kernelspec": {
   "display_name": "Python 3",
   "language": "python",
   "name": "python3"
  },
  "language_info": {
   "codemirror_mode": {
    "name": "ipython",
    "version": 3
   },
   "file_extension": ".py",
   "mimetype": "text/x-python",
   "name": "python",
   "nbconvert_exporter": "python",
   "pygments_lexer": "ipython3",
   "version": "3.8.8"
  }
 },
 "nbformat": 4,
 "nbformat_minor": 1
}
